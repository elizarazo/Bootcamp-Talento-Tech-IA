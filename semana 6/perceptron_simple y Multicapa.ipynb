{
 "cells": [
  {
   "cell_type": "markdown",
   "id": "8f00cc75-cd31-430c-97f9-3dc69b78a738",
   "metadata": {},
   "source": [
    "Perceptron Simple para función OR y AND"
   ]
  },
  {
   "cell_type": "raw",
   "id": "819f16db-344a-42ba-b147-3362a7b40586",
   "metadata": {},
   "source": [
    "Perceptron Multicapa "
   ]
  },
  {
   "cell_type": "code",
   "execution_count": 6,
   "id": "60b3309e-093c-4363-89bf-c5442f514924",
   "metadata": {},
   "outputs": [
    {
     "name": "stdout",
     "output_type": "stream",
     "text": [
      "Entrada: [0 0], Salida: 1\n",
      "Entrada: [0 1], Salida: 1\n",
      "Entrada: [1 0], Salida: 1\n",
      "Entrada: [1 1], Salida: 1\n"
     ]
    }
   ],
   "source": [
    "import numpy as np\n",
    "\n",
    "def perceptron_multicapa(entradas, pesos, umbrales):\n",
    "  \"\"\"\n",
    "  Función que calcula la salida de un perceptrón multicapa.\n",
    "\n",
    "  Argumentos:\n",
    "    entradas: Un vector numpy que representa las entradas de la neurona.\n",
    "    pesos: Una lista de matrices numpy que representan los pesos de las conexiones entre las capas.\n",
    "    umbrales: Una lista de valores numpy que representan los umbrales de las neuronas en cada capa.\n",
    "\n",
    "  Devuelve:\n",
    "    La salida del perceptrón multicapa.\n",
    "  \"\"\"\n",
    "  # Propagación hacia adelante por las capas\n",
    "  salidas = []\n",
    "  for capa_pesos, umbral in zip(pesos, umbrales):\n",
    "    # Cálculo de la suma ponderada\n",
    "    suma_ponderada = np.dot(entradas, capa_pesos)\n",
    "\n",
    "    # Aplicación de la función de activación sigmoide\n",
    "    salida = 1 / (1 + np.exp(-(suma_ponderada - umbral)))\n",
    "\n",
    "    # Actualización de las entradas para la siguiente capa\n",
    "    entradas = salida\n",
    "\n",
    "  return salida\n",
    "\n",
    "def entrenar_perceptron_multicapa(entradas, salidas_deseadas, pesos, umbrales, tasa_aprendizaje):\n",
    "  \"\"\"\n",
    "  Función que entrena un perceptrón multicapa utilizando el algoritmo de retropropagación.\n",
    "\n",
    "  Argumentos:\n",
    "    entradas: Una matriz numpy que representa las entradas de entrenamiento.\n",
    "    salidas_deseadas: Un vector numpy que representa las salidas deseadas para cada entrada de entrenamiento.\n",
    "    pesos: Una lista de matrices numpy que representan los pesos de las conexiones entre las capas.\n",
    "    umbrales: Una lista de valores numpy que representan los umbrales de las neuronas en cada capa.\n",
    "    tasa_aprendizaje: La tasa de aprendizaje del algoritmo.\n",
    "\n",
    "  Devuelve:\n",
    "    Los pesos y umbrales actualizados del perceptrón multicapa.\n",
    "  \"\"\"\n",
    "  for entrada, salida_deseada in zip(entradas, salidas_deseadas):\n",
    "    # Propagación hacia adelante\n",
    "    salidas_capa = []\n",
    "    for capa_pesos, umbral in zip(pesos, umbrales):\n",
    "      suma_ponderada = np.dot(entrada, capa_pesos)\n",
    "      salida = 1 / (1 + np.exp(-(suma_ponderada - umbral)))\n",
    "      salidas_capa.append(salida)\n",
    "      entrada = salida\n",
    "\n",
    "    # Propagación hacia atrás\n",
    "    delta_capa = []\n",
    "    for i in range(len(pesos) - 1, -1, -1):\n",
    "      if i == len(pesos) - 1:\n",
    "        delta = salidas_capa[i] - salida_deseada\n",
    "      else:\n",
    "        delta = np.dot(delta_capa[i + 1], pesos[i + 1].T) * (1 - salidas_capa[i]) * salidas_capa[i]\n",
    "\n",
    "      # Actualización de los pesos\n",
    "      pesos[i] += tasa_aprendizaje * delta * entradas[i].reshape(1, -1)\n",
    "\n",
    "      # Actualización del umbral\n",
    "      umbrales[i] += tasa_aprendizaje * delta\n",
    "\n",
    "      # Almacenamiento del error para la siguiente capa\n",
    "      delta_capa.append(delta)\n",
    "\n",
    "  return pesos, umbrales\n",
    "\n",
    "# Ejemplo de entrenamiento y evaluación de un perceptrón multicapa para una función XOR\n",
    "def entrenar_y_evaluar_perceptron_multicapa_xor():\n",
    "  # Entradas y salidas deseadas para la función XOR\n",
    "  entradas_xor = np.array([\n",
    "    [0, 0],\n",
    "    [0, 1],\n",
    "    [1, 0],\n",
    "    [1, 1]\n",
    "  ])\n",
    "  salidas_deseadas_xor = np.array([0, 1, 1, 0])\n",
    "\n",
    "  # Arquitectura de la red neuronal\n",
    "  # 2 neuronas en la capa de entrada, 2 neuronas en la capa oculta y 1 neurona en la capa de salida\n",
    "  n_neuronas_entrada = entradas_xor.shape[1]\n",
    "  n_neuronas_oculta = 2\n",
    "  n_neuronas_salida = 1\n",
    "\n",
    "# Función principal para ejecutar el programa\n",
    "def main():\n",
    "  # Entrenamiento y evaluación del perceptrón para la función OR\n",
    "  entrenar_y_evaluar_perceptron_or()\n",
    "\n",
    "  # Entrenamiento y evaluación del perceptrón para la función AND\n",
    "  entrenar_y_evaluar_perceptron_and()\n",
    "\n",
    "if __name__ == \"__main__\":\n",
    "  main()"
   ]
  },
  {
   "cell_type": "code",
   "execution_count": null,
   "id": "46338012-30b7-4787-b202-0443934e58e9",
   "metadata": {},
   "outputs": [],
   "source": []
  }
 ],
 "metadata": {
  "kernelspec": {
   "display_name": "Python 3 (ipykernel)",
   "language": "python",
   "name": "python3"
  },
  "language_info": {
   "codemirror_mode": {
    "name": "ipython",
    "version": 3
   },
   "file_extension": ".py",
   "mimetype": "text/x-python",
   "name": "python",
   "nbconvert_exporter": "python",
   "pygments_lexer": "ipython3",
   "version": "3.8.10"
  }
 },
 "nbformat": 4,
 "nbformat_minor": 5
}
