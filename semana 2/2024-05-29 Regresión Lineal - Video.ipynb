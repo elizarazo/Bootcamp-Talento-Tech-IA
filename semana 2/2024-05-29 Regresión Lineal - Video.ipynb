{
 "cells": [
  {
   "cell_type": "markdown",
   "metadata": {
    "id": "sx8LxAsBmkUh"
   },
   "source": [
    "**Ejercicio:** Regresión lineal simple<br>\n",
    "**Video:** https://www.youtube.com/watch?v=4PiiSUxcalg<br>\n",
    "**Por:** Edgar Lizarazo"
   ]
  },
  {
   "cell_type": "code",
   "execution_count": 1,
   "metadata": {
    "colab": {
     "base_uri": "https://localhost:8080/",
     "height": 335
    },
    "id": "4S2bByTaX2GX",
    "outputId": "84622302-8266-4cef-c781-e91486632a32"
   },
   "outputs": [
    {
     "name": "stdout",
     "output_type": "stream",
     "text": [
      "\n",
      "Regresión Lineal Simple\n"
     ]
    },
    {
     "data": {
      "text/html": [
       "<div>\n",
       "<style scoped>\n",
       "    .dataframe tbody tr th:only-of-type {\n",
       "        vertical-align: middle;\n",
       "    }\n",
       "\n",
       "    .dataframe tbody tr th {\n",
       "        vertical-align: top;\n",
       "    }\n",
       "\n",
       "    .dataframe thead th {\n",
       "        text-align: right;\n",
       "    }\n",
       "</style>\n",
       "<table border=\"1\" class=\"dataframe\">\n",
       "  <thead>\n",
       "    <tr style=\"text-align: right;\">\n",
       "      <th></th>\n",
       "      <th>x</th>\n",
       "      <th>y</th>\n",
       "    </tr>\n",
       "  </thead>\n",
       "  <tbody>\n",
       "    <tr>\n",
       "      <th>0</th>\n",
       "      <td>1</td>\n",
       "      <td>2</td>\n",
       "    </tr>\n",
       "    <tr>\n",
       "      <th>1</th>\n",
       "      <td>2</td>\n",
       "      <td>3</td>\n",
       "    </tr>\n",
       "    <tr>\n",
       "      <th>2</th>\n",
       "      <td>2</td>\n",
       "      <td>4</td>\n",
       "    </tr>\n",
       "    <tr>\n",
       "      <th>3</th>\n",
       "      <td>3</td>\n",
       "      <td>4</td>\n",
       "    </tr>\n",
       "    <tr>\n",
       "      <th>4</th>\n",
       "      <td>4</td>\n",
       "      <td>4</td>\n",
       "    </tr>\n",
       "    <tr>\n",
       "      <th>5</th>\n",
       "      <td>4</td>\n",
       "      <td>6</td>\n",
       "    </tr>\n",
       "    <tr>\n",
       "      <th>6</th>\n",
       "      <td>5</td>\n",
       "      <td>5</td>\n",
       "    </tr>\n",
       "    <tr>\n",
       "      <th>7</th>\n",
       "      <td>6</td>\n",
       "      <td>7</td>\n",
       "    </tr>\n",
       "  </tbody>\n",
       "</table>\n",
       "</div>"
      ],
      "text/plain": [
       "   x  y\n",
       "0  1  2\n",
       "1  2  3\n",
       "2  2  4\n",
       "3  3  4\n",
       "4  4  4\n",
       "5  4  6\n",
       "6  5  5\n",
       "7  6  7"
      ]
     },
     "metadata": {},
     "output_type": "display_data"
    }
   ],
   "source": [
    "import pandas as pd\n",
    "import matplotlib.pyplot as plt\n",
    "import numpy as np\n",
    "from IPython.display import display\n",
    "\n",
    "# Crear un dataset\n",
    "x = [1, 2, 2, 3, 4, 4, 5, 6]\n",
    "y = [2, 3, 4, 4, 4, 6, 5, 7]\n",
    "\n",
    "data_dict = {\"x\":x,\n",
    "             \"y\":y}\n",
    "\n",
    "# Convierte un dictionario en un dataframe\n",
    "print(\"\\nRegresión Lineal Simple\")\n",
    "df = pd.DataFrame(data_dict)\n",
    "display(df)"
   ]
  },
  {
   "cell_type": "code",
   "execution_count": 2,
   "metadata": {
    "colab": {
     "base_uri": "https://localhost:8080/",
     "height": 300
    },
    "id": "i-Azz3_AYyb4",
    "outputId": "ff6470e0-284a-4e19-aa2f-bead785c0d78"
   },
   "outputs": [
    {
     "data": {
      "text/html": [
       "<div>\n",
       "<style scoped>\n",
       "    .dataframe tbody tr th:only-of-type {\n",
       "        vertical-align: middle;\n",
       "    }\n",
       "\n",
       "    .dataframe tbody tr th {\n",
       "        vertical-align: top;\n",
       "    }\n",
       "\n",
       "    .dataframe thead th {\n",
       "        text-align: right;\n",
       "    }\n",
       "</style>\n",
       "<table border=\"1\" class=\"dataframe\">\n",
       "  <thead>\n",
       "    <tr style=\"text-align: right;\">\n",
       "      <th></th>\n",
       "      <th>x</th>\n",
       "      <th>y</th>\n",
       "      <th>xy</th>\n",
       "      <th>x2</th>\n",
       "    </tr>\n",
       "  </thead>\n",
       "  <tbody>\n",
       "    <tr>\n",
       "      <th>0</th>\n",
       "      <td>1</td>\n",
       "      <td>2</td>\n",
       "      <td>2</td>\n",
       "      <td>1</td>\n",
       "    </tr>\n",
       "    <tr>\n",
       "      <th>1</th>\n",
       "      <td>2</td>\n",
       "      <td>3</td>\n",
       "      <td>6</td>\n",
       "      <td>4</td>\n",
       "    </tr>\n",
       "    <tr>\n",
       "      <th>2</th>\n",
       "      <td>2</td>\n",
       "      <td>4</td>\n",
       "      <td>8</td>\n",
       "      <td>4</td>\n",
       "    </tr>\n",
       "    <tr>\n",
       "      <th>3</th>\n",
       "      <td>3</td>\n",
       "      <td>4</td>\n",
       "      <td>12</td>\n",
       "      <td>9</td>\n",
       "    </tr>\n",
       "    <tr>\n",
       "      <th>4</th>\n",
       "      <td>4</td>\n",
       "      <td>4</td>\n",
       "      <td>16</td>\n",
       "      <td>16</td>\n",
       "    </tr>\n",
       "    <tr>\n",
       "      <th>5</th>\n",
       "      <td>4</td>\n",
       "      <td>6</td>\n",
       "      <td>24</td>\n",
       "      <td>16</td>\n",
       "    </tr>\n",
       "    <tr>\n",
       "      <th>6</th>\n",
       "      <td>5</td>\n",
       "      <td>5</td>\n",
       "      <td>25</td>\n",
       "      <td>25</td>\n",
       "    </tr>\n",
       "    <tr>\n",
       "      <th>7</th>\n",
       "      <td>6</td>\n",
       "      <td>7</td>\n",
       "      <td>42</td>\n",
       "      <td>36</td>\n",
       "    </tr>\n",
       "  </tbody>\n",
       "</table>\n",
       "</div>"
      ],
      "text/plain": [
       "   x  y  xy  x2\n",
       "0  1  2   2   1\n",
       "1  2  3   6   4\n",
       "2  2  4   8   4\n",
       "3  3  4  12   9\n",
       "4  4  4  16  16\n",
       "5  4  6  24  16\n",
       "6  5  5  25  25\n",
       "7  6  7  42  36"
      ]
     },
     "metadata": {},
     "output_type": "display_data"
    }
   ],
   "source": [
    "#Calculos Iniciales\n",
    "df['xy'] = df['x']*df['y']\n",
    "df['x2'] = df['x']**2\n",
    "display(df)"
   ]
  },
  {
   "cell_type": "code",
   "execution_count": 3,
   "metadata": {
    "colab": {
     "base_uri": "https://localhost:8080/"
    },
    "id": "DRVxPx6RZ0vg",
    "outputId": "339147d8-346d-4097-d2b0-0a8770c34d60"
   },
   "outputs": [
    {
     "name": "stdout",
     "output_type": "stream",
     "text": [
      "Sumatorias Columnas\n",
      "x: 27 \n",
      "y: 35 \n",
      "xy: 135 \n",
      "x2: 111\n"
     ]
    }
   ],
   "source": [
    "sumx=df['x'].sum()\n",
    "sumy=df['y'].sum()\n",
    "sumxy=df['xy'].sum()\n",
    "sumx2=df['x2'].sum()\n",
    "print(\"Sumatorias Columnas\")\n",
    "print(\"x:\",sumx,\"\\ny:\",sumy,\"\\nxy:\",sumxy,\"\\nx2:\",sumx2)"
   ]
  },
  {
   "cell_type": "code",
   "execution_count": 4,
   "metadata": {
    "colab": {
     "base_uri": "https://localhost:8080/"
    },
    "id": "AaBZt1xwZ6GD",
    "outputId": "a641ae50-6a2e-4208-d814-53a94c1fc8e3"
   },
   "outputs": [
    {
     "name": "stdout",
     "output_type": "stream",
     "text": [
      "Pendiente: 0.8490566037735849 \n",
      "Punto de Corte: 1.5094339622641506\n"
     ]
    }
   ],
   "source": [
    "#Calculo Pendiente\n",
    "n = int(len(df))\n",
    "m=(n*sumxy-sumx*sumy)/(n*sumx2-sumx**2)\n",
    "m=float(m)\n",
    "#Punto de corte\n",
    "b=(sumy/n)-m*(sumx/n)\n",
    "b=float(b)\n",
    "print(\"Pendiente:\",m,\"\\nPunto de Corte:\",b)"
   ]
  },
  {
   "cell_type": "code",
   "execution_count": 5,
   "metadata": {
    "colab": {
     "base_uri": "https://localhost:8080/"
    },
    "id": "MgCPsns6eNwr",
    "outputId": "97dec046-fbe1-4009-f98d-33b3adeebd52"
   },
   "outputs": [
    {
     "data": {
      "text/plain": [
       "6.60377358490566"
      ]
     },
     "execution_count": 5,
     "metadata": {},
     "output_type": "execute_result"
    }
   ],
   "source": [
    "#Calculo Punto Final\n",
    "xf = df['x'].tail(1).values[0]\n",
    "yf=m*(xf)+b\n",
    "yf"
   ]
  },
  {
   "cell_type": "code",
   "execution_count": 6,
   "metadata": {
    "colab": {
     "base_uri": "https://localhost:8080/",
     "height": 125
    },
    "id": "wN9-iLbofkZo",
    "outputId": "0f3604a1-f00b-4cfe-bdfe-cc8fd50b1ded"
   },
   "outputs": [
    {
     "data": {
      "text/html": [
       "<div>\n",
       "<style scoped>\n",
       "    .dataframe tbody tr th:only-of-type {\n",
       "        vertical-align: middle;\n",
       "    }\n",
       "\n",
       "    .dataframe tbody tr th {\n",
       "        vertical-align: top;\n",
       "    }\n",
       "\n",
       "    .dataframe thead th {\n",
       "        text-align: right;\n",
       "    }\n",
       "</style>\n",
       "<table border=\"1\" class=\"dataframe\">\n",
       "  <thead>\n",
       "    <tr style=\"text-align: right;\">\n",
       "      <th></th>\n",
       "      <th>xf</th>\n",
       "      <th>yf</th>\n",
       "    </tr>\n",
       "  </thead>\n",
       "  <tbody>\n",
       "    <tr>\n",
       "      <th>0</th>\n",
       "      <td>0</td>\n",
       "      <td>1.509434</td>\n",
       "    </tr>\n",
       "    <tr>\n",
       "      <th>1</th>\n",
       "      <td>6</td>\n",
       "      <td>6.603774</td>\n",
       "    </tr>\n",
       "  </tbody>\n",
       "</table>\n",
       "</div>"
      ],
      "text/plain": [
       "   xf        yf\n",
       "0   0  1.509434\n",
       "1   6  6.603774"
      ]
     },
     "metadata": {},
     "output_type": "display_data"
    }
   ],
   "source": [
    "# Crear un dataset\n",
    "x_final = [0,xf]\n",
    "y_final = [b,yf]\n",
    "\n",
    "data_dict_f = {\"xf\":x_final,\n",
    "               \"yf\":y_final}\n",
    "\n",
    "# Convierte un dictionario en un dataframe\n",
    "dff = pd.DataFrame(data_dict_f)\n",
    "display(dff)"
   ]
  },
  {
   "cell_type": "code",
   "execution_count": 7,
   "metadata": {
    "colab": {
     "base_uri": "https://localhost:8080/",
     "height": 472
    },
    "id": "Y2WzDtjvdPvf",
    "outputId": "97daefa4-5bf3-48da-cadd-b41500f6261a"
   },
   "outputs": [
    {
     "data": {
      "image/png": "[encoded data removed]",
      "text/plain": [
       "<Figure size 640x480 with 1 Axes>"
      ]
     },
     "metadata": {},
     "output_type": "display_data"
    }
   ],
   "source": [
    "# Crear el gráfico de dispersión\n",
    "fig, ax = plt.subplots()\n",
    "ax.scatter(x, y, color='red')\n",
    "ax.plot(x_final,y_final,marker='s', linestyle='--', color='blue')\n",
    "\n",
    "# Añadir títulos y etiquetas\n",
    "plt.title('Regresión Lineal Simple')\n",
    "plt.xlabel('Eje X')\n",
    "plt.ylabel('Eje Y')\n",
    "ax.set_xlim(0, 6)\n",
    "ax.grid(True)\n",
    "\n",
    "plt.grid(True)\n",
    "\n",
    "# Mostrar el gráfico\n",
    "plt.show()"
   ]
  },
  {
   "cell_type": "code",
   "execution_count": 8,
   "metadata": {
    "colab": {
     "base_uri": "https://localhost:8080/"
    },
    "id": "t05vuKtFaG7C",
    "outputId": "cb2b67ae-1960-49c4-9f67-142d7058a026"
   },
   "outputs": [
    {
     "name": "stdout",
     "output_type": "stream",
     "text": [
      "Sr: 3.547169811320755\n"
     ]
    }
   ],
   "source": [
    "#Suma cuadrados de residuos: Comprensión de Lista\n",
    "sumf =sum([(y[i] - (m * x[i] + b)) ** 2 for i in range(n)])\n",
    "print(\"Sr:\", sumf)"
   ]
  },
  {
   "cell_type": "code",
   "execution_count": 9,
   "metadata": {
    "colab": {
     "base_uri": "https://localhost:8080/"
    },
    "id": "jfGOCCBflLJG",
    "outputId": "b3f64b34-91c3-45d7-a176-afd2b8ebb54c"
   },
   "outputs": [
    {
     "name": "stdout",
     "output_type": "stream",
     "text": [
      "Sr: 3.547169811320755\n"
     ]
    }
   ],
   "source": [
    "#Suma cuadrados de residuos: Ciclo For\n",
    "sumf=0\n",
    "for i in range(n):\n",
    "    res_sum =(y[i]-(m*x[i]+b))**2\n",
    "    sumf += res_sum\n",
    "print(\"Sr:\",sumf)"
   ]
  },
  {
   "cell_type": "code",
   "execution_count": 10,
   "metadata": {
    "colab": {
     "base_uri": "https://localhost:8080/"
    },
    "id": "IeBr-uYJa150",
    "outputId": "a9f7ba3d-bbd2-40c4-824f-f64c28114aed"
   },
   "outputs": [
    {
     "name": "stdout",
     "output_type": "stream",
     "text": [
      "sr_promedio: 0.44339622641509435\n"
     ]
    }
   ],
   "source": [
    "sr=sumf/n\n",
    "print(\"sr_promedio:\",sr)"
   ]
  },
  {
   "cell_type": "code",
   "execution_count": 11,
   "metadata": {
    "colab": {
     "base_uri": "https://localhost:8080/"
    },
    "id": "tzmBMMvTbdyZ",
    "outputId": "6f72e6fe-502f-4487-a715-ecc3d47ff179"
   },
   "outputs": [
    {
     "name": "stdout",
     "output_type": "stream",
     "text": [
      "rmse: 0.08323500488217592\n"
     ]
    }
   ],
   "source": [
    "rmse=sr**(1/2)\n",
    "rmse_n=rmse/n\n",
    "print(\"rmse:\",rmse_n)"
   ]
  }
 ],
 "metadata": {
  "colab": {
   "provenance": []
  },
  "kernelspec": {
   "display_name": "Python 3 (ipykernel)",
   "language": "python",
   "name": "python3"
  },
  "language_info": {
   "codemirror_mode": {
    "name": "ipython",
    "version": 3
   },
   "file_extension": ".py",
   "mimetype": "text/x-python",
   "name": "python",
   "nbconvert_exporter": "python",
   "pygments_lexer": "ipython3",
   "version": "3.8.10"
  }
 },
 "nbformat": 4,
 "nbformat_minor": 4
}
