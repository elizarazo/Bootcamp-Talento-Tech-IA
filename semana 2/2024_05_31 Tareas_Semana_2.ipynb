{
 "cells": [
  {
   "cell_type": "markdown",
   "metadata": {
    "id": "sx8LxAsBmkUh"
   },
   "source": [
    "**Ejercicio:** Tareas Semana 2<br>\n",
    "**Por:** Edgar Lizaraazo"
   ]
  },
  {
   "cell_type": "code",
   "execution_count": 1,
   "metadata": {
    "colab": {
     "base_uri": "https://localhost:8080/",
     "height": 397
    },
    "id": "4S2bByTaX2GX",
    "outputId": "0a9738d7-3b73-4b0a-c6ee-d69eb6b47fad",
    "scrolled": true
   },
   "outputs": [
    {
     "name": "stdout",
     "output_type": "stream",
     "text": [
      "   sleep_hours  exam_scores\n",
      "0            7           85\n",
      "1            8           92\n",
      "2            6           78\n",
      "3            9           98\n",
      "4            5           62\n",
      "5           10          100\n",
      "6            8           94\n",
      "7            7           82\n",
      "8            9           96\n",
      "9            6           75\n"
     ]
    }
   ],
   "source": [
    "import pandas as pd\n",
    "import matplotlib.pyplot as plt\n",
    "import numpy as np\n",
    "import seaborn as sns\n",
    "\n",
    "# Create the dataset\n",
    "sleep_hours = [7, 8, 6, 9, 5, 10, 8, 7, 9, 6]\n",
    "exam_scores = [85, 92, 78, 98, 62, 100, 94, 82, 96, 75]\n",
    "\n",
    "data_dict = {\"sleep_hours\": sleep_hours, \"exam_scores\": exam_scores}\n",
    "\n",
    "df = pd.DataFrame(data_dict)\n",
    "\n",
    "print(df)\n",
    "\n"
   ]
  },
  {
   "cell_type": "code",
   "execution_count": 2,
   "metadata": {
    "colab": {
     "base_uri": "https://localhost:8080/",
     "height": 363
    },
    "id": "i-Azz3_AYyb4",
    "outputId": "4315bae4-7938-43d9-eac9-3428a2b876aa"
   },
   "outputs": [
    {
     "name": "stdout",
     "output_type": "stream",
     "text": [
      "   sleep_hours  exam_scores    xy   x2\n",
      "0            7           85   595   49\n",
      "1            8           92   736   64\n",
      "2            6           78   468   36\n",
      "3            9           98   882   81\n",
      "4            5           62   310   25\n",
      "5           10          100  1000  100\n",
      "6            8           94   752   64\n",
      "7            7           82   574   49\n",
      "8            9           96   864   81\n",
      "9            6           75   450   36\n"
     ]
    }
   ],
   "source": [
    "#Calculos Iniciales\n",
    "df['xy'] = df['sleep_hours']*df['exam_scores']\n",
    "df['x2'] = df['sleep_hours']**2\n",
    "print(df)"
   ]
  },
  {
   "cell_type": "markdown",
   "metadata": {
    "id": "Gl1wc8e7AChF"
   },
   "source": [
    "**Actividad 1:** Crear otra columna con enteros y convertirla en flotante."
   ]
  },
  {
   "cell_type": "code",
   "execution_count": 3,
   "metadata": {
    "colab": {
     "base_uri": "https://localhost:8080/",
     "height": 363
    },
    "id": "BIs5NesKATDc",
    "outputId": "4489f1c8-79d8-40a7-e54e-246cd25aceff"
   },
   "outputs": [
    {
     "data": {
      "text/html": [
       "<div>\n",
       "<style scoped>\n",
       "    .dataframe tbody tr th:only-of-type {\n",
       "        vertical-align: middle;\n",
       "    }\n",
       "\n",
       "    .dataframe tbody tr th {\n",
       "        vertical-align: top;\n",
       "    }\n",
       "\n",
       "    .dataframe thead th {\n",
       "        text-align: right;\n",
       "    }\n",
       "</style>\n",
       "<table border=\"1\" class=\"dataframe\">\n",
       "  <thead>\n",
       "    <tr style=\"text-align: right;\">\n",
       "      <th></th>\n",
       "      <th>sleep_hours</th>\n",
       "      <th>exam_scores</th>\n",
       "      <th>xy</th>\n",
       "      <th>x2</th>\n",
       "      <th>SCORES</th>\n",
       "    </tr>\n",
       "  </thead>\n",
       "  <tbody>\n",
       "    <tr>\n",
       "      <th>0</th>\n",
       "      <td>7</td>\n",
       "      <td>85</td>\n",
       "      <td>595</td>\n",
       "      <td>49</td>\n",
       "      <td>85.0</td>\n",
       "    </tr>\n",
       "    <tr>\n",
       "      <th>1</th>\n",
       "      <td>8</td>\n",
       "      <td>92</td>\n",
       "      <td>736</td>\n",
       "      <td>64</td>\n",
       "      <td>92.0</td>\n",
       "    </tr>\n",
       "    <tr>\n",
       "      <th>2</th>\n",
       "      <td>6</td>\n",
       "      <td>78</td>\n",
       "      <td>468</td>\n",
       "      <td>36</td>\n",
       "      <td>78.0</td>\n",
       "    </tr>\n",
       "    <tr>\n",
       "      <th>3</th>\n",
       "      <td>9</td>\n",
       "      <td>98</td>\n",
       "      <td>882</td>\n",
       "      <td>81</td>\n",
       "      <td>98.0</td>\n",
       "    </tr>\n",
       "    <tr>\n",
       "      <th>4</th>\n",
       "      <td>5</td>\n",
       "      <td>62</td>\n",
       "      <td>310</td>\n",
       "      <td>25</td>\n",
       "      <td>62.0</td>\n",
       "    </tr>\n",
       "    <tr>\n",
       "      <th>5</th>\n",
       "      <td>10</td>\n",
       "      <td>100</td>\n",
       "      <td>1000</td>\n",
       "      <td>100</td>\n",
       "      <td>100.0</td>\n",
       "    </tr>\n",
       "    <tr>\n",
       "      <th>6</th>\n",
       "      <td>8</td>\n",
       "      <td>94</td>\n",
       "      <td>752</td>\n",
       "      <td>64</td>\n",
       "      <td>94.0</td>\n",
       "    </tr>\n",
       "    <tr>\n",
       "      <th>7</th>\n",
       "      <td>7</td>\n",
       "      <td>82</td>\n",
       "      <td>574</td>\n",
       "      <td>49</td>\n",
       "      <td>82.0</td>\n",
       "    </tr>\n",
       "    <tr>\n",
       "      <th>8</th>\n",
       "      <td>9</td>\n",
       "      <td>96</td>\n",
       "      <td>864</td>\n",
       "      <td>81</td>\n",
       "      <td>96.0</td>\n",
       "    </tr>\n",
       "    <tr>\n",
       "      <th>9</th>\n",
       "      <td>6</td>\n",
       "      <td>75</td>\n",
       "      <td>450</td>\n",
       "      <td>36</td>\n",
       "      <td>75.0</td>\n",
       "    </tr>\n",
       "  </tbody>\n",
       "</table>\n",
       "</div>"
      ],
      "text/plain": [
       "   sleep_hours  exam_scores    xy   x2  SCORES\n",
       "0            7           85   595   49    85.0\n",
       "1            8           92   736   64    92.0\n",
       "2            6           78   468   36    78.0\n",
       "3            9           98   882   81    98.0\n",
       "4            5           62   310   25    62.0\n",
       "5           10          100  1000  100   100.0\n",
       "6            8           94   752   64    94.0\n",
       "7            7           82   574   49    82.0\n",
       "8            9           96   864   81    96.0\n",
       "9            6           75   450   36    75.0"
      ]
     },
     "execution_count": 3,
     "metadata": {},
     "output_type": "execute_result"
    }
   ],
   "source": [
    "df['SCORES'] = df['exam_scores'].astype(float)\n",
    "df"
   ]
  },
  {
   "cell_type": "markdown",
   "metadata": {
    "id": "HaC-PNsGBhDm"
   },
   "source": [
    "**Actividad 2:** Como verificar que una columna contiene un string"
   ]
  },
  {
   "cell_type": "code",
   "execution_count": 4,
   "metadata": {
    "colab": {
     "base_uri": "https://localhost:8080/"
    },
    "id": "f5EbKHyFBn_H",
    "outputId": "f32e7030-ce19-429b-88c7-5714bd443215"
   },
   "outputs": [
    {
     "name": "stdout",
     "output_type": "stream",
     "text": [
      "La columna: test_string_a , no solo contiene valores string\n",
      "La columna: test_string_b , solo contiene valores string\n",
      "La columna: test_string_c , no solo contiene valores string\n"
     ]
    }
   ],
   "source": [
    "df['test_string_a']= ['alto','sobresaliente','aceptable','deficiente','aceptable',5, 1, 2, 3, 4]\n",
    "df['test_string_b']= ['alto','sobresaliente','aceptable','deficiente','alto','sobresaliente','aceptable','deficiente','bajo','alto']\n",
    "df['test_string_c']= ['alto','sobresaliente','aceptable','deficiente','aceptable',5, 1, 2, 3, 4]\n",
    "\n",
    "test=['test_string_a','test_string_b','test_string_c']\n",
    "\n",
    "# Función para verficar si la columna contiene un string\n",
    "for i in range(3):\n",
    "  res=df[test[i]].apply(lambda x: isinstance(x, str)).all()\n",
    "  if res:\n",
    "    print(\"La columna:\",test[i],\", solo contiene valores string\")\n",
    "  else:\n",
    "    print(\"La columna:\",test[i],\", no solo contiene valores string\")\n"
   ]
  },
  {
   "cell_type": "markdown",
   "metadata": {
    "id": "JQyuu8XfGDNw"
   },
   "source": [
    "**Actividad 3:** Eliminar columnas innecesarias"
   ]
  },
  {
   "cell_type": "code",
   "execution_count": 5,
   "metadata": {
    "colab": {
     "base_uri": "https://localhost:8080/",
     "height": 363
    },
    "id": "IjjlkawQGlcZ",
    "outputId": "01d8958d-d5f6-4f47-cb8b-f00fbb5f204c"
   },
   "outputs": [
    {
     "data": {
      "text/html": [
       "<div>\n",
       "<style scoped>\n",
       "    .dataframe tbody tr th:only-of-type {\n",
       "        vertical-align: middle;\n",
       "    }\n",
       "\n",
       "    .dataframe tbody tr th {\n",
       "        vertical-align: top;\n",
       "    }\n",
       "\n",
       "    .dataframe thead th {\n",
       "        text-align: right;\n",
       "    }\n",
       "</style>\n",
       "<table border=\"1\" class=\"dataframe\">\n",
       "  <thead>\n",
       "    <tr style=\"text-align: right;\">\n",
       "      <th></th>\n",
       "      <th>sleep_hours</th>\n",
       "      <th>exam_scores</th>\n",
       "      <th>xy</th>\n",
       "      <th>x2</th>\n",
       "    </tr>\n",
       "  </thead>\n",
       "  <tbody>\n",
       "    <tr>\n",
       "      <th>0</th>\n",
       "      <td>7</td>\n",
       "      <td>85</td>\n",
       "      <td>595</td>\n",
       "      <td>49</td>\n",
       "    </tr>\n",
       "    <tr>\n",
       "      <th>1</th>\n",
       "      <td>8</td>\n",
       "      <td>92</td>\n",
       "      <td>736</td>\n",
       "      <td>64</td>\n",
       "    </tr>\n",
       "    <tr>\n",
       "      <th>2</th>\n",
       "      <td>6</td>\n",
       "      <td>78</td>\n",
       "      <td>468</td>\n",
       "      <td>36</td>\n",
       "    </tr>\n",
       "    <tr>\n",
       "      <th>3</th>\n",
       "      <td>9</td>\n",
       "      <td>98</td>\n",
       "      <td>882</td>\n",
       "      <td>81</td>\n",
       "    </tr>\n",
       "    <tr>\n",
       "      <th>4</th>\n",
       "      <td>5</td>\n",
       "      <td>62</td>\n",
       "      <td>310</td>\n",
       "      <td>25</td>\n",
       "    </tr>\n",
       "    <tr>\n",
       "      <th>5</th>\n",
       "      <td>10</td>\n",
       "      <td>100</td>\n",
       "      <td>1000</td>\n",
       "      <td>100</td>\n",
       "    </tr>\n",
       "    <tr>\n",
       "      <th>6</th>\n",
       "      <td>8</td>\n",
       "      <td>94</td>\n",
       "      <td>752</td>\n",
       "      <td>64</td>\n",
       "    </tr>\n",
       "    <tr>\n",
       "      <th>7</th>\n",
       "      <td>7</td>\n",
       "      <td>82</td>\n",
       "      <td>574</td>\n",
       "      <td>49</td>\n",
       "    </tr>\n",
       "    <tr>\n",
       "      <th>8</th>\n",
       "      <td>9</td>\n",
       "      <td>96</td>\n",
       "      <td>864</td>\n",
       "      <td>81</td>\n",
       "    </tr>\n",
       "    <tr>\n",
       "      <th>9</th>\n",
       "      <td>6</td>\n",
       "      <td>75</td>\n",
       "      <td>450</td>\n",
       "      <td>36</td>\n",
       "    </tr>\n",
       "  </tbody>\n",
       "</table>\n",
       "</div>"
      ],
      "text/plain": [
       "   sleep_hours  exam_scores    xy   x2\n",
       "0            7           85   595   49\n",
       "1            8           92   736   64\n",
       "2            6           78   468   36\n",
       "3            9           98   882   81\n",
       "4            5           62   310   25\n",
       "5           10          100  1000  100\n",
       "6            8           94   752   64\n",
       "7            7           82   574   49\n",
       "8            9           96   864   81\n",
       "9            6           75   450   36"
      ]
     },
     "execution_count": 5,
     "metadata": {},
     "output_type": "execute_result"
    }
   ],
   "source": [
    "#Nota: Ejecutar línea anterior, para poder eliminar las columnas\n",
    "#Link: https://docs.kanaries.net/es/topics/Python/dataframe-drop-column\n",
    "df = df.drop (['test_string_a','test_string_b','test_string_c','SCORES'], axis = 1)\n",
    "df"
   ]
  },
  {
   "cell_type": "markdown",
   "metadata": {
    "id": "Pj4ZIt57Hsj2"
   },
   "source": [
    "**Actividad 4:** Clasificar en 3 Categorías"
   ]
  },
  {
   "cell_type": "code",
   "execution_count": 6,
   "metadata": {
    "colab": {
     "base_uri": "https://localhost:8080/",
     "height": 363
    },
    "id": "A588YdUcHy93",
    "outputId": "8fb29baf-549a-42ce-f10c-f749da4f2924"
   },
   "outputs": [
    {
     "data": {
      "text/html": [
       "<div>\n",
       "<style scoped>\n",
       "    .dataframe tbody tr th:only-of-type {\n",
       "        vertical-align: middle;\n",
       "    }\n",
       "\n",
       "    .dataframe tbody tr th {\n",
       "        vertical-align: top;\n",
       "    }\n",
       "\n",
       "    .dataframe thead th {\n",
       "        text-align: right;\n",
       "    }\n",
       "</style>\n",
       "<table border=\"1\" class=\"dataframe\">\n",
       "  <thead>\n",
       "    <tr style=\"text-align: right;\">\n",
       "      <th></th>\n",
       "      <th>sleep_hours</th>\n",
       "      <th>exam_scores</th>\n",
       "      <th>xy</th>\n",
       "      <th>x2</th>\n",
       "      <th>scale_scores</th>\n",
       "    </tr>\n",
       "  </thead>\n",
       "  <tbody>\n",
       "    <tr>\n",
       "      <th>0</th>\n",
       "      <td>7</td>\n",
       "      <td>85</td>\n",
       "      <td>595</td>\n",
       "      <td>49</td>\n",
       "      <td>Excelente</td>\n",
       "    </tr>\n",
       "    <tr>\n",
       "      <th>1</th>\n",
       "      <td>8</td>\n",
       "      <td>92</td>\n",
       "      <td>736</td>\n",
       "      <td>64</td>\n",
       "      <td>Excelente</td>\n",
       "    </tr>\n",
       "    <tr>\n",
       "      <th>2</th>\n",
       "      <td>6</td>\n",
       "      <td>78</td>\n",
       "      <td>468</td>\n",
       "      <td>36</td>\n",
       "      <td>Sobresaliente</td>\n",
       "    </tr>\n",
       "    <tr>\n",
       "      <th>3</th>\n",
       "      <td>9</td>\n",
       "      <td>98</td>\n",
       "      <td>882</td>\n",
       "      <td>81</td>\n",
       "      <td>Excelente</td>\n",
       "    </tr>\n",
       "    <tr>\n",
       "      <th>4</th>\n",
       "      <td>5</td>\n",
       "      <td>62</td>\n",
       "      <td>310</td>\n",
       "      <td>25</td>\n",
       "      <td>Sobresaliente</td>\n",
       "    </tr>\n",
       "    <tr>\n",
       "      <th>5</th>\n",
       "      <td>10</td>\n",
       "      <td>100</td>\n",
       "      <td>1000</td>\n",
       "      <td>100</td>\n",
       "      <td>Excelente</td>\n",
       "    </tr>\n",
       "    <tr>\n",
       "      <th>6</th>\n",
       "      <td>8</td>\n",
       "      <td>94</td>\n",
       "      <td>752</td>\n",
       "      <td>64</td>\n",
       "      <td>Excelente</td>\n",
       "    </tr>\n",
       "    <tr>\n",
       "      <th>7</th>\n",
       "      <td>7</td>\n",
       "      <td>82</td>\n",
       "      <td>574</td>\n",
       "      <td>49</td>\n",
       "      <td>Excelente</td>\n",
       "    </tr>\n",
       "    <tr>\n",
       "      <th>8</th>\n",
       "      <td>9</td>\n",
       "      <td>96</td>\n",
       "      <td>864</td>\n",
       "      <td>81</td>\n",
       "      <td>Excelente</td>\n",
       "    </tr>\n",
       "    <tr>\n",
       "      <th>9</th>\n",
       "      <td>6</td>\n",
       "      <td>75</td>\n",
       "      <td>450</td>\n",
       "      <td>36</td>\n",
       "      <td>Sobresaliente</td>\n",
       "    </tr>\n",
       "  </tbody>\n",
       "</table>\n",
       "</div>"
      ],
      "text/plain": [
       "   sleep_hours  exam_scores    xy   x2   scale_scores\n",
       "0            7           85   595   49      Excelente\n",
       "1            8           92   736   64      Excelente\n",
       "2            6           78   468   36  Sobresaliente\n",
       "3            9           98   882   81      Excelente\n",
       "4            5           62   310   25  Sobresaliente\n",
       "5           10          100  1000  100      Excelente\n",
       "6            8           94   752   64      Excelente\n",
       "7            7           82   574   49      Excelente\n",
       "8            9           96   864   81      Excelente\n",
       "9            6           75   450   36  Sobresaliente"
      ]
     },
     "execution_count": 6,
     "metadata": {},
     "output_type": "execute_result"
    }
   ],
   "source": [
    "#Variable Categórica (Aceptable,Sobresaliente,Excelente)\n",
    "df['scale_scores'] = np.where(df['exam_scores'] < 50, 'Aceptable', np.where(df['exam_scores']  <= 80,'Sobresaliente','Excelente'))\n",
    "df"
   ]
  },
  {
   "cell_type": "markdown",
   "metadata": {
    "id": "5dpz0bYSGecc"
   },
   "source": [
    "**Actividad 5:** Como usar la función .describe() para incluir variables categóricas"
   ]
  },
  {
   "cell_type": "code",
   "execution_count": 7,
   "metadata": {
    "colab": {
     "base_uri": "https://localhost:8080/"
    },
    "id": "9uM72hf9kwF8",
    "outputId": "109d14fb-702f-47d9-8b27-af6e20c23e4d"
   },
   "outputs": [
    {
     "name": "stdout",
     "output_type": "stream",
     "text": [
      "        sleep_hours  exam_scores           xy          x2 scale_scores\n",
      "count     10.000000    10.000000    10.000000   10.000000           10\n",
      "unique          NaN          NaN          NaN         NaN            2\n",
      "top             NaN          NaN          NaN         NaN    Excelente\n",
      "freq            NaN          NaN          NaN         NaN            7\n",
      "mean       7.500000    86.200000   663.100000   58.500000          NaN\n",
      "std        1.581139    12.099587   220.032548   23.829254          NaN\n",
      "min        5.000000    62.000000   310.000000   25.000000          NaN\n",
      "25%        6.250000    79.000000   494.500000   39.250000          NaN\n",
      "50%        7.500000    88.500000   665.500000   56.500000          NaN\n",
      "75%        8.750000    95.500000   836.000000   76.750000          NaN\n",
      "max       10.000000   100.000000  1000.000000  100.000000          NaN\n"
     ]
    }
   ],
   "source": [
    "descripcion_completa = df.describe(include='all') #Respuesta dada por ChatGPT\n",
    "print (descripcion_completa)"
   ]
  },
  {
   "cell_type": "markdown",
   "metadata": {
    "id": "jcW9xdgjJ87k"
   },
   "source": [
    "**Actividad 6:** Carga y descarga de Dataframe como (.xlsx) y (.json)"
   ]
  },
  {
   "cell_type": "raw",
   "metadata": {
    "id": "EIMX8dubIbEg"
   },
   "source": [
    "#-----------Descarga de archivos--------\n",
    "\n",
    "# Exportación a Excel\n",
    "df.to_excel(\"data_export.xlsx\", sheet_name=\"Sheet1\")\n",
    "\n",
    "# Exportación a JSON\n",
    "df.to_json(\"data_export.json\")\n",
    "\n",
    "# Descarga de archivos en Google Colab (opcional)\n",
    "\n",
    "from google.colab import files\n",
    "\n",
    "# Descargar archivo Excel\n",
    "files.download('data_export.xlsx')\n",
    "\n",
    "# Descargar archivo JSON\n",
    "files.download('data_export.json')\n",
    "\n",
    "#------------Carga de archivos------------\n",
    "\n",
    "# Si el archivo se encuentra en el mismo directorio que el notebook:\n",
    "\n",
    "try:\n",
    "  # Carga de archivo Excel\n",
    "  df_test = pd.read_excel(\"data.xlsx\", sheet_name=\"Sheet1\")\n",
    "except FileNotFoundError:\n",
    "  # Si no se encuentra en el directorio actual, busca en Google Drive\n",
    "  from google.colab import drive\n",
    "  drive.mount('/content/drive')\n",
    "  df_test = pd.read_excel('/content/drive/My Drive/data.xlsx', sheet_name=\"Sheet1\")\n",
    "\n",
    "# Carga de archivo JSON\n",
    "df_test = pd.read_json(\"data.json\")  # Se asume que el archivo JSON también está en el mismo directorio o en Google Drive\n"
   ]
  },
  {
   "cell_type": "markdown",
   "metadata": {
    "id": "McNG2WWKK2dL"
   },
   "source": [
    "**Actividad 7:** Matriz de Correlación y Regresión Lineal"
   ]
  },
  {
   "cell_type": "code",
   "execution_count": 8,
   "metadata": {
    "colab": {
     "base_uri": "https://localhost:8080/",
     "height": 649
    },
    "id": "r6IvbKDaqPvh",
    "outputId": "e4d6d47e-e5bc-44a5-af13-09f2024c4ec2"
   },
   "outputs": [
    {
     "name": "stdout",
     "output_type": "stream",
     "text": [
      "Correlation Matrix:\n",
      "             sleep_hours  exam_scores        xy        x2\n",
      "sleep_hours     1.000000     0.964107  0.998525  0.995293\n",
      "exam_scores     0.964107     1.000000  0.972625  0.937217\n",
      "xy              0.998525     0.972625  1.000000  0.992257\n",
      "x2              0.995293     0.937217  0.992257  1.000000\n"
     ]
    },
    {
     "data": {
      "image/png": "[encoded data removed]",
      "text/plain": [
       "<Figure size 800x600 with 2 Axes>"
      ]
     },
     "metadata": {},
     "output_type": "display_data"
    }
   ],
   "source": [
    "# Calculate the correlation matrix\n",
    "df = df.drop (['scale_scores'], axis = 1)\n",
    "correlation_matrix = df.corr()\n",
    "\n",
    "# Print the correlation matrix\n",
    "print(\"Correlation Matrix:\")\n",
    "print(correlation_matrix)\n",
    "\n",
    "# Visualize the correlation matrix using a heatmap\n",
    "plt.figure(figsize=(8, 6))\n",
    "sns.heatmap(correlation_matrix, annot=True, cmap='coolwarm', linewidths=0.5)\n",
    "plt.title('Correlation Matrix Heatmap')\n",
    "plt.show()"
   ]
  },
  {
   "cell_type": "code",
   "execution_count": 9,
   "metadata": {
    "colab": {
     "base_uri": "https://localhost:8080/"
    },
    "id": "DRVxPx6RZ0vg",
    "outputId": "29a0c9d0-c2a8-4704-b60d-9bcc92293e6d"
   },
   "outputs": [
    {
     "name": "stdout",
     "output_type": "stream",
     "text": [
      "Sumatorias Columnas\n",
      "Horas_sueño: 75 \n",
      "Calificaciones: 862 \n",
      "xy: 6631 \n",
      "x2: 585\n"
     ]
    }
   ],
   "source": [
    "sumx=df['sleep_hours'].sum()\n",
    "sumy=df['exam_scores'].sum()\n",
    "sumxy=df['xy'].sum()\n",
    "sumx2=df['x2'].sum()\n",
    "print(\"Sumatorias Columnas\")\n",
    "print(\"Horas_sueño:\",sumx,\"\\nCalificaciones:\",sumy,\"\\nxy:\",sumxy,\"\\nx2:\",sumx2)"
   ]
  },
  {
   "cell_type": "code",
   "execution_count": 10,
   "metadata": {
    "colab": {
     "base_uri": "https://localhost:8080/"
    },
    "id": "AaBZt1xwZ6GD",
    "outputId": "8a174c42-17f5-40f5-8d6e-08e47865171a"
   },
   "outputs": [
    {
     "name": "stdout",
     "output_type": "stream",
     "text": [
      "Pendiente: 7.377777777777778 \n",
      "Punto de Corte: 30.866666666666667\n"
     ]
    }
   ],
   "source": [
    "#Calculo Pendiente\n",
    "n = int(len(df))\n",
    "m=(n*sumxy-sumx*sumy)/(n*sumx2-sumx**2)\n",
    "m=float(m)\n",
    "#Punto de corte\n",
    "b=(sumy/n)-m*(sumx/n)\n",
    "b=float(b)\n",
    "print(\"Pendiente:\",m,\"\\nPunto de Corte:\",b)"
   ]
  },
  {
   "cell_type": "code",
   "execution_count": 11,
   "metadata": {
    "colab": {
     "base_uri": "https://localhost:8080/"
    },
    "id": "MgCPsns6eNwr",
    "outputId": "f30a6ea0-bb7d-4db2-e1ba-3e0416a8f26c"
   },
   "outputs": [
    {
     "data": {
      "text/plain": [
       "75.13333333333333"
      ]
     },
     "execution_count": 11,
     "metadata": {},
     "output_type": "execute_result"
    }
   ],
   "source": [
    "#Calculo Punto Final\n",
    "xf = df['sleep_hours'].tail(1).values[0]\n",
    "yf=m*(xf)+b\n",
    "yf"
   ]
  },
  {
   "cell_type": "code",
   "execution_count": 12,
   "metadata": {
    "colab": {
     "base_uri": "https://localhost:8080/",
     "height": 125
    },
    "id": "wN9-iLbofkZo",
    "outputId": "9808b5d0-8152-42b4-9c30-ea3ba1c71ecb"
   },
   "outputs": [
    {
     "data": {
      "text/html": [
       "<div>\n",
       "<style scoped>\n",
       "    .dataframe tbody tr th:only-of-type {\n",
       "        vertical-align: middle;\n",
       "    }\n",
       "\n",
       "    .dataframe tbody tr th {\n",
       "        vertical-align: top;\n",
       "    }\n",
       "\n",
       "    .dataframe thead th {\n",
       "        text-align: right;\n",
       "    }\n",
       "</style>\n",
       "<table border=\"1\" class=\"dataframe\">\n",
       "  <thead>\n",
       "    <tr style=\"text-align: right;\">\n",
       "      <th></th>\n",
       "      <th>xf</th>\n",
       "      <th>yf</th>\n",
       "    </tr>\n",
       "  </thead>\n",
       "  <tbody>\n",
       "    <tr>\n",
       "      <th>0</th>\n",
       "      <td>0</td>\n",
       "      <td>30.866667</td>\n",
       "    </tr>\n",
       "    <tr>\n",
       "      <th>1</th>\n",
       "      <td>6</td>\n",
       "      <td>75.133333</td>\n",
       "    </tr>\n",
       "  </tbody>\n",
       "</table>\n",
       "</div>"
      ],
      "text/plain": [
       "   xf         yf\n",
       "0   0  30.866667\n",
       "1   6  75.133333"
      ]
     },
     "execution_count": 12,
     "metadata": {},
     "output_type": "execute_result"
    }
   ],
   "source": [
    "# Crear un dataset\n",
    "x_final = [0,xf]\n",
    "y_final = [b,yf]\n",
    "\n",
    "data_dict_f = {\"xf\":x_final,\n",
    "               \"yf\":y_final}\n",
    "\n",
    "# Convierte un dictionario en un dataframe\n",
    "dff = pd.DataFrame(data_dict_f)\n",
    "dff"
   ]
  },
  {
   "cell_type": "code",
   "execution_count": 14,
   "metadata": {
    "colab": {
     "base_uri": "https://localhost:8080/",
     "height": 472
    },
    "id": "Y2WzDtjvdPvf",
    "outputId": "01194bc7-6179-4b05-cf70-5a20d75922cc"
   },
   "outputs": [
    {
     "data": {
      "image/png": "[encoded data removed]",
      "text/plain": [
       "<Figure size 640x480 with 1 Axes>"
      ]
     },
     "metadata": {},
     "output_type": "display_data"
    }
   ],
   "source": [
    "# Crear el gráfico de dispersión\n",
    "fig, ax = plt.subplots()\n",
    "ax.scatter(xf, yf,color='#FFAF04')\n",
    "ax.plot(x_final,y_final,marker='s', linestyle='--', color='#30FF82')\n",
    "\n",
    "# Añadir títulos y etiquetas\n",
    "plt.title('Regresión Lineal Simple')\n",
    "plt.xlabel('Eje X')\n",
    "plt.ylabel('Eje Y')\n",
    "ax.set_xlim(0, 10)\n",
    "ax.grid(True)\n",
    "\n",
    "# Mostrar el gráfico\n",
    "plt.show()"
   ]
  },
  {
   "cell_type": "code",
   "execution_count": 19,
   "metadata": {
    "colab": {
     "base_uri": "https://localhost:8080/"
    },
    "id": "t05vuKtFaG7C",
    "outputId": "babc07a7-4101-4272-bcfe-9f2a0c9fa62c"
   },
   "outputs": [
    {
     "name": "stdout",
     "output_type": "stream",
     "text": [
      "Sr: 92.88888888888901\n"
     ]
    }
   ],
   "source": [
    "#Suma cuadrados de residuos: Lista de Comprensión\n",
    "x = df['sleep_hours']\n",
    "y = df['exam_scores']\n",
    "sumf =sum([(y[i] - (m * x[i] + b)) ** 2 for i in range(n)])\n",
    "print(\"Sr:\", sumf)"
   ]
  },
  {
   "cell_type": "code",
   "execution_count": 20,
   "metadata": {
    "colab": {
     "base_uri": "https://localhost:8080/"
    },
    "id": "jfGOCCBflLJG",
    "outputId": "362e3947-302f-464d-a6dc-afa4fed787ef"
   },
   "outputs": [
    {
     "name": "stdout",
     "output_type": "stream",
     "text": [
      "Sr: 92.88888888888901\n"
     ]
    }
   ],
   "source": [
    "#Suma cuadrados de residuos: Ciclo For\n",
    "sumf=0\n",
    "for i in range(n):\n",
    "    res_sum =(y[i]-(m*x[i]+b))**2\n",
    "    sumf += res_sum\n",
    "print(\"Sr:\",sumf)"
   ]
  }
 ],
 "metadata": {
  "colab": {
   "provenance": []
  },
  "kernelspec": {
   "display_name": "Python 3 (ipykernel)",
   "language": "python",
   "name": "python3"
  },
  "language_info": {
   "codemirror_mode": {
    "name": "ipython",
    "version": 3
   },
   "file_extension": ".py",
   "mimetype": "text/x-python",
   "name": "python",
   "nbconvert_exporter": "python",
   "pygments_lexer": "ipython3",
   "version": "3.8.10"
  }
 },
 "nbformat": 4,
 "nbformat_minor": 4
}
